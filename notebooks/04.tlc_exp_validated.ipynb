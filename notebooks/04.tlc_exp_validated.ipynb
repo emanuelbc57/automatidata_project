{
 "cells": [
  {
   "cell_type": "markdown",
   "id": "f6e91899-82d3-4d67-922d-4b13279b834a",
   "metadata": {},
   "source": [
    "# Exploration of the data\n",
    "\n",
    "### Temporal distributions\n",
    "* Ride count and ttl_am_without_tips by: month, day of the week and pickup time;\n",
    "\n",
    "### Location-related distributions\n",
    "* ```RatecodeID``` and ```DOLocationID``` relationship\n",
    "\n",
    "If specific ```DOLocationID```'s are associated a specific ```RatecodeID```:\n",
    "  * Evaluate total rides, ```trip_duration_sec```, ```trip_distance```, ```ttl_am_without_tips```, ```mta_tax``` and ```improvement_surcharge``` distributions for each ```RatecodeID```\n",
    "\n",
    "If not:\n",
    "  * Evaluate total rides, ```trip_duration_sec```, ```trip_distance```, ```ttl_am_without_tips```, ```mta_tax``` and ```improvement_surcharge``` distributions for each ```DOLocationID```"
   ]
  }
 ],
 "metadata": {
  "kernelspec": {
   "display_name": "Python 3 (ipykernel)",
   "language": "python",
   "name": "python3"
  },
  "language_info": {
   "codemirror_mode": {
    "name": "ipython",
    "version": 3
   },
   "file_extension": ".py",
   "mimetype": "text/x-python",
   "name": "python",
   "nbconvert_exporter": "python",
   "pygments_lexer": "ipython3",
   "version": "3.13.3"
  }
 },
 "nbformat": 4,
 "nbformat_minor": 5
}
