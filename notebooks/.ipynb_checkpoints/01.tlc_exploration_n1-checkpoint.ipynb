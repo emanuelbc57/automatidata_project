{
 "cells": [
  {
   "cell_type": "markdown",
   "id": "9990bef2-8939-4445-834d-2703b7cc3b53",
   "metadata": {},
   "source": [
    "# Data frame setup and description\n"
   ]
  },
  {
   "cell_type": "markdown",
   "id": "0f8c2ea2-d928-4efa-86a6-d269326dda85",
   "metadata": {},
   "source": [
    "## Importing relevant libraries and data"
   ]
  },
  {
   "cell_type": "code",
   "execution_count": 1,
   "id": "89614d1c-6cc5-4307-b5c3-22faedf18197",
   "metadata": {},
   "outputs": [],
   "source": [
    "import pandas as pd\n",
    "import numpy as np\n",
    "import seaborn as sns\n",
    "from matplotlib import pyplot as plt"
   ]
  },
  {
   "cell_type": "code",
   "execution_count": 2,
   "id": "85f378b9-a23a-4fdf-ab90-89fc31da40f2",
   "metadata": {},
   "outputs": [
    {
     "name": "stdout",
     "output_type": "stream",
     "text": [
      "done\n"
     ]
    }
   ],
   "source": [
    "tlc_df = pd.read_csv('../data/raw/2017_Yellow_Taxi_Trip_Data.csv')\n",
    "tlc_df.drop_duplicates()\n",
    "print('done')"
   ]
  },
  {
   "cell_type": "markdown",
   "id": "396aa776-84ad-4def-8e29-f5cbb867cdc2",
   "metadata": {},
   "source": [
    "## Columns Inspection"
   ]
  },
  {
   "cell_type": "code",
   "execution_count": 3,
   "id": "33a50529-8a07-4b59-8638-3857e36ae363",
   "metadata": {},
   "outputs": [
    {
     "name": "stdout",
     "output_type": "stream",
     "text": [
      "<class 'pandas.core.frame.DataFrame'>\n",
      "RangeIndex: 22699 entries, 0 to 22698\n",
      "Data columns (total 18 columns):\n",
      " #   Column                 Non-Null Count  Dtype  \n",
      "---  ------                 --------------  -----  \n",
      " 0   Unnamed: 0             22699 non-null  int64  \n",
      " 1   VendorID               22699 non-null  int64  \n",
      " 2   tpep_pickup_datetime   22699 non-null  object \n",
      " 3   tpep_dropoff_datetime  22699 non-null  object \n",
      " 4   passenger_count        22699 non-null  int64  \n",
      " 5   trip_distance          22699 non-null  float64\n",
      " 6   RatecodeID             22699 non-null  int64  \n",
      " 7   store_and_fwd_flag     22699 non-null  object \n",
      " 8   PULocationID           22699 non-null  int64  \n",
      " 9   DOLocationID           22699 non-null  int64  \n",
      " 10  payment_type           22699 non-null  int64  \n",
      " 11  fare_amount            22699 non-null  float64\n",
      " 12  extra                  22699 non-null  float64\n",
      " 13  mta_tax                22699 non-null  float64\n",
      " 14  tip_amount             22699 non-null  float64\n",
      " 15  tolls_amount           22699 non-null  float64\n",
      " 16  improvement_surcharge  22699 non-null  float64\n",
      " 17  total_amount           22699 non-null  float64\n",
      "dtypes: float64(8), int64(7), object(3)\n",
      "memory usage: 3.1+ MB\n"
     ]
    }
   ],
   "source": [
    "tlc_df.info()"
   ]
  },
  {
   "cell_type": "code",
   "execution_count": 4,
   "id": "6e7bc0ac-0bb0-4b6a-95e3-9ab723defacf",
   "metadata": {},
   "outputs": [
    {
     "data": {
      "text/html": [
       "<div>\n",
       "<style scoped>\n",
       "    .dataframe tbody tr th:only-of-type {\n",
       "        vertical-align: middle;\n",
       "    }\n",
       "\n",
       "    .dataframe tbody tr th {\n",
       "        vertical-align: top;\n",
       "    }\n",
       "\n",
       "    .dataframe thead th {\n",
       "        text-align: right;\n",
       "    }\n",
       "</style>\n",
       "<table border=\"1\" class=\"dataframe\">\n",
       "  <thead>\n",
       "    <tr style=\"text-align: right;\">\n",
       "      <th></th>\n",
       "      <th>Unnamed: 0</th>\n",
       "      <th>VendorID</th>\n",
       "      <th>passenger_count</th>\n",
       "      <th>trip_distance</th>\n",
       "      <th>RatecodeID</th>\n",
       "      <th>PULocationID</th>\n",
       "      <th>DOLocationID</th>\n",
       "      <th>payment_type</th>\n",
       "      <th>fare_amount</th>\n",
       "      <th>extra</th>\n",
       "      <th>mta_tax</th>\n",
       "      <th>tip_amount</th>\n",
       "      <th>tolls_amount</th>\n",
       "      <th>improvement_surcharge</th>\n",
       "      <th>total_amount</th>\n",
       "    </tr>\n",
       "  </thead>\n",
       "  <tbody>\n",
       "    <tr>\n",
       "      <th>count</th>\n",
       "      <td>2.269900e+04</td>\n",
       "      <td>22699.000000</td>\n",
       "      <td>22699.000000</td>\n",
       "      <td>22699.000000</td>\n",
       "      <td>22699.000000</td>\n",
       "      <td>22699.000000</td>\n",
       "      <td>22699.000000</td>\n",
       "      <td>22699.000000</td>\n",
       "      <td>22699.000000</td>\n",
       "      <td>22699.000000</td>\n",
       "      <td>22699.000000</td>\n",
       "      <td>22699.000000</td>\n",
       "      <td>22699.000000</td>\n",
       "      <td>22699.000000</td>\n",
       "      <td>22699.000000</td>\n",
       "    </tr>\n",
       "    <tr>\n",
       "      <th>mean</th>\n",
       "      <td>5.675849e+07</td>\n",
       "      <td>1.556236</td>\n",
       "      <td>1.642319</td>\n",
       "      <td>2.913313</td>\n",
       "      <td>1.043394</td>\n",
       "      <td>162.412353</td>\n",
       "      <td>161.527997</td>\n",
       "      <td>1.336887</td>\n",
       "      <td>13.026629</td>\n",
       "      <td>0.333275</td>\n",
       "      <td>0.497445</td>\n",
       "      <td>1.835781</td>\n",
       "      <td>0.312542</td>\n",
       "      <td>0.299551</td>\n",
       "      <td>16.310502</td>\n",
       "    </tr>\n",
       "    <tr>\n",
       "      <th>std</th>\n",
       "      <td>3.274493e+07</td>\n",
       "      <td>0.496838</td>\n",
       "      <td>1.285231</td>\n",
       "      <td>3.653171</td>\n",
       "      <td>0.708391</td>\n",
       "      <td>66.633373</td>\n",
       "      <td>70.139691</td>\n",
       "      <td>0.496211</td>\n",
       "      <td>13.243791</td>\n",
       "      <td>0.463097</td>\n",
       "      <td>0.039465</td>\n",
       "      <td>2.800626</td>\n",
       "      <td>1.399212</td>\n",
       "      <td>0.015673</td>\n",
       "      <td>16.097295</td>\n",
       "    </tr>\n",
       "    <tr>\n",
       "      <th>min</th>\n",
       "      <td>1.212700e+04</td>\n",
       "      <td>1.000000</td>\n",
       "      <td>0.000000</td>\n",
       "      <td>0.000000</td>\n",
       "      <td>1.000000</td>\n",
       "      <td>1.000000</td>\n",
       "      <td>1.000000</td>\n",
       "      <td>1.000000</td>\n",
       "      <td>-120.000000</td>\n",
       "      <td>-1.000000</td>\n",
       "      <td>-0.500000</td>\n",
       "      <td>0.000000</td>\n",
       "      <td>0.000000</td>\n",
       "      <td>-0.300000</td>\n",
       "      <td>-120.300000</td>\n",
       "    </tr>\n",
       "    <tr>\n",
       "      <th>25%</th>\n",
       "      <td>2.852056e+07</td>\n",
       "      <td>1.000000</td>\n",
       "      <td>1.000000</td>\n",
       "      <td>0.990000</td>\n",
       "      <td>1.000000</td>\n",
       "      <td>114.000000</td>\n",
       "      <td>112.000000</td>\n",
       "      <td>1.000000</td>\n",
       "      <td>6.500000</td>\n",
       "      <td>0.000000</td>\n",
       "      <td>0.500000</td>\n",
       "      <td>0.000000</td>\n",
       "      <td>0.000000</td>\n",
       "      <td>0.300000</td>\n",
       "      <td>8.750000</td>\n",
       "    </tr>\n",
       "    <tr>\n",
       "      <th>50%</th>\n",
       "      <td>5.673150e+07</td>\n",
       "      <td>2.000000</td>\n",
       "      <td>1.000000</td>\n",
       "      <td>1.610000</td>\n",
       "      <td>1.000000</td>\n",
       "      <td>162.000000</td>\n",
       "      <td>162.000000</td>\n",
       "      <td>1.000000</td>\n",
       "      <td>9.500000</td>\n",
       "      <td>0.000000</td>\n",
       "      <td>0.500000</td>\n",
       "      <td>1.350000</td>\n",
       "      <td>0.000000</td>\n",
       "      <td>0.300000</td>\n",
       "      <td>11.800000</td>\n",
       "    </tr>\n",
       "    <tr>\n",
       "      <th>75%</th>\n",
       "      <td>8.537452e+07</td>\n",
       "      <td>2.000000</td>\n",
       "      <td>2.000000</td>\n",
       "      <td>3.060000</td>\n",
       "      <td>1.000000</td>\n",
       "      <td>233.000000</td>\n",
       "      <td>233.000000</td>\n",
       "      <td>2.000000</td>\n",
       "      <td>14.500000</td>\n",
       "      <td>0.500000</td>\n",
       "      <td>0.500000</td>\n",
       "      <td>2.450000</td>\n",
       "      <td>0.000000</td>\n",
       "      <td>0.300000</td>\n",
       "      <td>17.800000</td>\n",
       "    </tr>\n",
       "    <tr>\n",
       "      <th>max</th>\n",
       "      <td>1.134863e+08</td>\n",
       "      <td>2.000000</td>\n",
       "      <td>6.000000</td>\n",
       "      <td>33.960000</td>\n",
       "      <td>99.000000</td>\n",
       "      <td>265.000000</td>\n",
       "      <td>265.000000</td>\n",
       "      <td>4.000000</td>\n",
       "      <td>999.990000</td>\n",
       "      <td>4.500000</td>\n",
       "      <td>0.500000</td>\n",
       "      <td>200.000000</td>\n",
       "      <td>19.100000</td>\n",
       "      <td>0.300000</td>\n",
       "      <td>1200.290000</td>\n",
       "    </tr>\n",
       "  </tbody>\n",
       "</table>\n",
       "</div>"
      ],
      "text/plain": [
       "         Unnamed: 0      VendorID  passenger_count  trip_distance  \\\n",
       "count  2.269900e+04  22699.000000     22699.000000   22699.000000   \n",
       "mean   5.675849e+07      1.556236         1.642319       2.913313   \n",
       "std    3.274493e+07      0.496838         1.285231       3.653171   \n",
       "min    1.212700e+04      1.000000         0.000000       0.000000   \n",
       "25%    2.852056e+07      1.000000         1.000000       0.990000   \n",
       "50%    5.673150e+07      2.000000         1.000000       1.610000   \n",
       "75%    8.537452e+07      2.000000         2.000000       3.060000   \n",
       "max    1.134863e+08      2.000000         6.000000      33.960000   \n",
       "\n",
       "         RatecodeID  PULocationID  DOLocationID  payment_type   fare_amount  \\\n",
       "count  22699.000000  22699.000000  22699.000000  22699.000000  22699.000000   \n",
       "mean       1.043394    162.412353    161.527997      1.336887     13.026629   \n",
       "std        0.708391     66.633373     70.139691      0.496211     13.243791   \n",
       "min        1.000000      1.000000      1.000000      1.000000   -120.000000   \n",
       "25%        1.000000    114.000000    112.000000      1.000000      6.500000   \n",
       "50%        1.000000    162.000000    162.000000      1.000000      9.500000   \n",
       "75%        1.000000    233.000000    233.000000      2.000000     14.500000   \n",
       "max       99.000000    265.000000    265.000000      4.000000    999.990000   \n",
       "\n",
       "              extra       mta_tax    tip_amount  tolls_amount  \\\n",
       "count  22699.000000  22699.000000  22699.000000  22699.000000   \n",
       "mean       0.333275      0.497445      1.835781      0.312542   \n",
       "std        0.463097      0.039465      2.800626      1.399212   \n",
       "min       -1.000000     -0.500000      0.000000      0.000000   \n",
       "25%        0.000000      0.500000      0.000000      0.000000   \n",
       "50%        0.000000      0.500000      1.350000      0.000000   \n",
       "75%        0.500000      0.500000      2.450000      0.000000   \n",
       "max        4.500000      0.500000    200.000000     19.100000   \n",
       "\n",
       "       improvement_surcharge  total_amount  \n",
       "count           22699.000000  22699.000000  \n",
       "mean                0.299551     16.310502  \n",
       "std                 0.015673     16.097295  \n",
       "min                -0.300000   -120.300000  \n",
       "25%                 0.300000      8.750000  \n",
       "50%                 0.300000     11.800000  \n",
       "75%                 0.300000     17.800000  \n",
       "max                 0.300000   1200.290000  "
      ]
     },
     "execution_count": 4,
     "metadata": {},
     "output_type": "execute_result"
    }
   ],
   "source": [
    "tlc_df.describe()"
   ]
  },
  {
   "cell_type": "markdown",
   "id": "674f606c-50c1-4f25-b48d-6a42ba7b0a30",
   "metadata": {},
   "source": [
    "In general terms, the dataset has:\n",
    "* 17 columns\n",
    "* 22699 not null entries\n",
    "\n",
    "Consideration about data types:\n",
    "dtypes: float64(8), int64(6), object(3)\n",
    "\n",
    "Integer variables:\n",
    "* VendorID: has two values (1 and 2) - Identifies which TPEP provided the data\n",
    "* Passenger_count: driver entered value with total passengers in the vehicle, goes from 0 up to 6. Zero-values may indicate not entered values.\n",
    "* RatecodeID: The final rate code in effect at the end of the trip. (1- Standard rate, 2- JFK, 3- Newark, 4- Nassau or Westchester, 5- Negotiated fare, 6- Group ride) Seems to have missing information, some rows have the value 99 assigned.\n",
    "* PULocation: taxi zone id where the taximeter was engaged\n",
    "* DOLocation: taxi zone id where the taximeter was disengaged\n",
    "* payment_type: indicates when the trip was paid using 1- Credit card, 2- Cash, 3- No charge, 4- Dispute, 5- Unknown, 6- Voided trip\n",
    "\n",
    "Object variables: \n",
    "* tpep_pickup_datetime: date and time when the taximeter was engaged\n",
    "* tpep_dropoff_datetime: date and time when the taximeter was engaged\n",
    "* store_and_fwd_flag: indicates whether the trip record was held in vehicle memory before being sent to the vendor (store and forward)  because the vehicle did not have a connection to the server (Y/N).\n",
    "\n",
    "Floating point variables:\n",
    "* trip_distance: trip distance in miles reported by the taximeter.\n",
    "* fare_amount: time-and-distance fare calculated by the taximeter.\n",
    "* extra: Miscellaneous extras and surcharges. Currently, this only includes the \\$0.50-1.00 dolar rush hour and overnight charges. \n",
    "* mta_tax: MTA tax that is automatically triggered based on the metered rate in use.\n",
    "* tip_amount: field is automatically populated for credit card tips. Cash tips are not included.\n",
    "* tolls_amount: Total amount of all tolls paid in trip.\n",
    "* improvement_surge: \\$0.30 improvement surcharge assessed trips at the flag drop. Seems to be the same for all trips\n",
    "* total_amount: The total amount charged to passengers. Does not include cash tips.\n",
    "\n",
    "Negative values are placed in fare_amount, extra, mta_tax, improvement_surcharge, and total_amount variables. These values are most likely due to problems during data ingestion."
   ]
  },
  {
   "cell_type": "markdown",
   "id": "d6c7c264-6603-4ca5-9479-40db9d007219",
   "metadata": {},
   "source": [
    "# Investigationg Variables Distribution\n",
    "## ```VendorID```\n",
    "Investigating for count and average total amount of rides per system, the distributions seem to be overlaped, indicating that the VendorID variable would hardly be useful when setting up a regression model."
   ]
  },
  {
   "cell_type": "code",
   "execution_count": 5,
   "id": "166d30ac-f4e4-492d-89ea-c4535031e476",
   "metadata": {},
   "outputs": [
    {
     "data": {
      "text/html": [
       "<div>\n",
       "<style scoped>\n",
       "    .dataframe tbody tr th:only-of-type {\n",
       "        vertical-align: middle;\n",
       "    }\n",
       "\n",
       "    .dataframe tbody tr th {\n",
       "        vertical-align: top;\n",
       "    }\n",
       "\n",
       "    .dataframe thead th {\n",
       "        text-align: right;\n",
       "    }\n",
       "</style>\n",
       "<table border=\"1\" class=\"dataframe\">\n",
       "  <thead>\n",
       "    <tr style=\"text-align: right;\">\n",
       "      <th></th>\n",
       "      <th>total_rides</th>\n",
       "      <th>average_total_amount</th>\n",
       "      <th>std_dev_total_amount</th>\n",
       "    </tr>\n",
       "    <tr>\n",
       "      <th>VendorID</th>\n",
       "      <th></th>\n",
       "      <th></th>\n",
       "      <th></th>\n",
       "    </tr>\n",
       "  </thead>\n",
       "  <tbody>\n",
       "    <tr>\n",
       "      <th>1</th>\n",
       "      <td>10073</td>\n",
       "      <td>16.298119</td>\n",
       "      <td>17.715440</td>\n",
       "    </tr>\n",
       "    <tr>\n",
       "      <th>2</th>\n",
       "      <td>12626</td>\n",
       "      <td>16.320382</td>\n",
       "      <td>14.679695</td>\n",
       "    </tr>\n",
       "  </tbody>\n",
       "</table>\n",
       "</div>"
      ],
      "text/plain": [
       "          total_rides  average_total_amount  std_dev_total_amount\n",
       "VendorID                                                         \n",
       "1               10073             16.298119             17.715440\n",
       "2               12626             16.320382             14.679695"
      ]
     },
     "execution_count": 5,
     "metadata": {},
     "output_type": "execute_result"
    }
   ],
   "source": [
    "tlc_df.loc[:,['VendorID','total_amount']].groupby(tlc_df['VendorID']).agg(\n",
    "                                                                          total_rides = ('VendorID','count'),\n",
    "                                                                          average_total_amount = ('total_amount','mean'),\n",
    "                                                                          std_dev_total_amount = ('total_amount', 'std'))"
   ]
  },
  {
   "cell_type": "markdown",
   "id": "2c4062f5-ab47-4218-873c-d2d038c56167",
   "metadata": {},
   "source": [
    "## ```trip_distance```\n",
    "Investigating the distribution of trip distances, the greater values show reasonable distances, without relevant gaps between the distances of the trips.\n",
    "The boxplot bellow points out that, even tough there are outliers in the distribution, these values doesn't indicate these values are invalid or due to entry errors."
   ]
  },
  {
   "cell_type": "code",
   "execution_count": 6,
   "id": "285d3908-3f35-4024-b9be-804d05b6a3b5",
   "metadata": {},
   "outputs": [
    {
     "data": {
      "text/plain": [
       "9280     33.96\n",
       "13861    33.92\n",
       "6064     32.72\n",
       "10291    31.95\n",
       "29       30.83\n",
       "18130    30.50\n",
       "5792     30.33\n",
       "15350    28.23\n",
       "10302    28.20\n",
       "2592     27.97\n",
       "Name: trip_distance, dtype: float64"
      ]
     },
     "execution_count": 6,
     "metadata": {},
     "output_type": "execute_result"
    }
   ],
   "source": [
    "tlc_df['trip_distance'].sort_values(ascending = False).head(10)"
   ]
  },
  {
   "cell_type": "code",
   "execution_count": 7,
   "id": "904ce506-3b15-442c-b9cf-8a70540cadd8",
   "metadata": {},
   "outputs": [
    {
     "data": {
      "image/png": "[encoded data removed]",
      "text/plain": [
       "<Figure size 640x480 with 1 Axes>"
      ]
     },
     "metadata": {},
     "output_type": "display_data"
    }
   ],
   "source": [
    "box = sns.boxplot(x=tlc_df['trip_distance'])\n",
    "g = plt.gca()\n",
    "plt.xlabel('Trip distance')\n",
    "plt.title('Trip distance distribution');"
   ]
  },
  {
   "cell_type": "markdown",
   "id": "76526220-15d5-466d-bbc4-05038384bf32",
   "metadata": {},
   "source": [
    "## ```total_amount```\n",
    "Investigating the distribution of total amounts in the dataset, the general distribution points out the existence of a considerable amount of outliers, some of them are probably assotiated to the longer trip distances. But three of them look stand out: the greater two and the negative value. "
   ]
  },
  {
   "cell_type": "code",
   "execution_count": 8,
   "id": "ac00f543-13f0-4e3c-b09e-958b5fe8a226",
   "metadata": {},
   "outputs": [
    {
     "data": {
      "text/plain": [
       "8476     1200.29\n",
       "20312     450.30\n",
       "13861     258.21\n",
       "12511     233.74\n",
       "15474     211.80\n",
       "6064      179.06\n",
       "16379     157.06\n",
       "3582      152.30\n",
       "11269     151.82\n",
       "9280      150.30\n",
       "Name: total_amount, dtype: float64"
      ]
     },
     "execution_count": 8,
     "metadata": {},
     "output_type": "execute_result"
    }
   ],
   "source": [
    "tlc_df['total_amount'].sort_values(ascending = False).head(10)"
   ]
  },
  {
   "cell_type": "code",
   "execution_count": 9,
   "id": "1295a79c-7e5b-4642-ada5-e1ec7c22bb87",
   "metadata": {},
   "outputs": [
    {
     "data": {
      "image/png": "[encoded data removed]",
      "text/plain": [
       "<Figure size 640x480 with 1 Axes>"
      ]
     },
     "metadata": {},
     "output_type": "display_data"
    }
   ],
   "source": [
    "box = sns.boxplot(x=tlc_df['total_amount'])\n",
    "g = plt.gca()\n",
    "plt.xlabel('Total amount')\n",
    "plt.title('Total amount distribution');"
   ]
  },
  {
   "cell_type": "markdown",
   "id": "e1c5e20f-5f36-4780-8742-ad3144091632",
   "metadata": {},
   "source": [
    "Taking a closer look into the two greater total amounts, we find out that both of them show low values for trip distances and short time gaps, indicating both of them are either entry errors or abnormal negotiated fares (RatecodeID = 5 for both rides) and shall not be considered when constructing the machile learning model for predicting taxi fares.\n",
    "\n",
    "Now focusing in the negative value, the negative sign may be due to an error entry, once both fare amount and improvement surcharge show negative values as well. This pattern is repeated in other rows with negative values. On the other hand, the almost one day long ride for a 0.17 mile long ride also seems suspicious, and might skew a prediction model.\n",
    "\n",
    "The RatecodeID of these three variables points out a negotiated fare. It might suggest that, when creating a prediction model, could be valid to ignore this kind of fare. "
   ]
  },
  {
   "cell_type": "code",
   "execution_count": 10,
   "id": "e362478b-50d7-40e9-bc7c-84d86c45b2d7",
   "metadata": {},
   "outputs": [
    {
     "data": {
      "text/html": [
       "<div>\n",
       "<style scoped>\n",
       "    .dataframe tbody tr th:only-of-type {\n",
       "        vertical-align: middle;\n",
       "    }\n",
       "\n",
       "    .dataframe tbody tr th {\n",
       "        vertical-align: top;\n",
       "    }\n",
       "\n",
       "    .dataframe thead th {\n",
       "        text-align: right;\n",
       "    }\n",
       "</style>\n",
       "<table border=\"1\" class=\"dataframe\">\n",
       "  <thead>\n",
       "    <tr style=\"text-align: right;\">\n",
       "      <th></th>\n",
       "      <th>Unnamed: 0</th>\n",
       "      <th>VendorID</th>\n",
       "      <th>tpep_pickup_datetime</th>\n",
       "      <th>tpep_dropoff_datetime</th>\n",
       "      <th>passenger_count</th>\n",
       "      <th>trip_distance</th>\n",
       "      <th>RatecodeID</th>\n",
       "      <th>store_and_fwd_flag</th>\n",
       "      <th>PULocationID</th>\n",
       "      <th>DOLocationID</th>\n",
       "      <th>payment_type</th>\n",
       "      <th>fare_amount</th>\n",
       "      <th>extra</th>\n",
       "      <th>mta_tax</th>\n",
       "      <th>tip_amount</th>\n",
       "      <th>tolls_amount</th>\n",
       "      <th>improvement_surcharge</th>\n",
       "      <th>total_amount</th>\n",
       "    </tr>\n",
       "  </thead>\n",
       "  <tbody>\n",
       "    <tr>\n",
       "      <th>8476</th>\n",
       "      <td>11157412</td>\n",
       "      <td>1</td>\n",
       "      <td>02/06/2017 5:50:10 AM</td>\n",
       "      <td>02/06/2017 5:51:08 AM</td>\n",
       "      <td>1</td>\n",
       "      <td>2.6</td>\n",
       "      <td>5</td>\n",
       "      <td>N</td>\n",
       "      <td>226</td>\n",
       "      <td>226</td>\n",
       "      <td>1</td>\n",
       "      <td>999.99</td>\n",
       "      <td>0.0</td>\n",
       "      <td>0.0</td>\n",
       "      <td>200.0</td>\n",
       "      <td>0.0</td>\n",
       "      <td>0.3</td>\n",
       "      <td>1200.29</td>\n",
       "    </tr>\n",
       "    <tr>\n",
       "      <th>20312</th>\n",
       "      <td>107558404</td>\n",
       "      <td>2</td>\n",
       "      <td>12/19/2017 9:40:46 AM</td>\n",
       "      <td>12/19/2017 9:40:55 AM</td>\n",
       "      <td>2</td>\n",
       "      <td>0.0</td>\n",
       "      <td>5</td>\n",
       "      <td>N</td>\n",
       "      <td>265</td>\n",
       "      <td>265</td>\n",
       "      <td>2</td>\n",
       "      <td>450.00</td>\n",
       "      <td>0.0</td>\n",
       "      <td>0.0</td>\n",
       "      <td>0.0</td>\n",
       "      <td>0.0</td>\n",
       "      <td>0.3</td>\n",
       "      <td>450.30</td>\n",
       "    </tr>\n",
       "  </tbody>\n",
       "</table>\n",
       "</div>"
      ],
      "text/plain": [
       "       Unnamed: 0  VendorID   tpep_pickup_datetime  tpep_dropoff_datetime  \\\n",
       "8476     11157412         1  02/06/2017 5:50:10 AM  02/06/2017 5:51:08 AM   \n",
       "20312   107558404         2  12/19/2017 9:40:46 AM  12/19/2017 9:40:55 AM   \n",
       "\n",
       "       passenger_count  trip_distance  RatecodeID store_and_fwd_flag  \\\n",
       "8476                 1            2.6           5                  N   \n",
       "20312                2            0.0           5                  N   \n",
       "\n",
       "       PULocationID  DOLocationID  payment_type  fare_amount  extra  mta_tax  \\\n",
       "8476            226           226             1       999.99    0.0      0.0   \n",
       "20312           265           265             2       450.00    0.0      0.0   \n",
       "\n",
       "       tip_amount  tolls_amount  improvement_surcharge  total_amount  \n",
       "8476        200.0           0.0                    0.3       1200.29  \n",
       "20312         0.0           0.0                    0.3        450.30  "
      ]
     },
     "execution_count": 10,
     "metadata": {},
     "output_type": "execute_result"
    }
   ],
   "source": [
    "tlc_df.sort_values('total_amount',ascending = False).head(2)"
   ]
  },
  {
   "cell_type": "code",
   "execution_count": 11,
   "id": "e216e508-0cdb-4b5b-b80d-4d4ba8fc91c2",
   "metadata": {},
   "outputs": [
    {
     "data": {
      "text/html": [
       "<div>\n",
       "<style scoped>\n",
       "    .dataframe tbody tr th:only-of-type {\n",
       "        vertical-align: middle;\n",
       "    }\n",
       "\n",
       "    .dataframe tbody tr th {\n",
       "        vertical-align: top;\n",
       "    }\n",
       "\n",
       "    .dataframe thead th {\n",
       "        text-align: right;\n",
       "    }\n",
       "</style>\n",
       "<table border=\"1\" class=\"dataframe\">\n",
       "  <thead>\n",
       "    <tr style=\"text-align: right;\">\n",
       "      <th></th>\n",
       "      <th>Unnamed: 0</th>\n",
       "      <th>VendorID</th>\n",
       "      <th>tpep_pickup_datetime</th>\n",
       "      <th>tpep_dropoff_datetime</th>\n",
       "      <th>passenger_count</th>\n",
       "      <th>trip_distance</th>\n",
       "      <th>RatecodeID</th>\n",
       "      <th>store_and_fwd_flag</th>\n",
       "      <th>PULocationID</th>\n",
       "      <th>DOLocationID</th>\n",
       "      <th>payment_type</th>\n",
       "      <th>fare_amount</th>\n",
       "      <th>extra</th>\n",
       "      <th>mta_tax</th>\n",
       "      <th>tip_amount</th>\n",
       "      <th>tolls_amount</th>\n",
       "      <th>improvement_surcharge</th>\n",
       "      <th>total_amount</th>\n",
       "    </tr>\n",
       "  </thead>\n",
       "  <tbody>\n",
       "    <tr>\n",
       "      <th>12944</th>\n",
       "      <td>29059760</td>\n",
       "      <td>2</td>\n",
       "      <td>04/08/2017 12:00:16 AM</td>\n",
       "      <td>04/08/2017 11:15:57 PM</td>\n",
       "      <td>1</td>\n",
       "      <td>0.17</td>\n",
       "      <td>5</td>\n",
       "      <td>N</td>\n",
       "      <td>138</td>\n",
       "      <td>138</td>\n",
       "      <td>4</td>\n",
       "      <td>-120.0</td>\n",
       "      <td>0.0</td>\n",
       "      <td>0.0</td>\n",
       "      <td>0.0</td>\n",
       "      <td>0.0</td>\n",
       "      <td>-0.3</td>\n",
       "      <td>-120.3</td>\n",
       "    </tr>\n",
       "    <tr>\n",
       "      <th>17602</th>\n",
       "      <td>24690146</td>\n",
       "      <td>2</td>\n",
       "      <td>03/24/2017 7:31:13 PM</td>\n",
       "      <td>03/24/2017 7:34:49 PM</td>\n",
       "      <td>1</td>\n",
       "      <td>0.46</td>\n",
       "      <td>1</td>\n",
       "      <td>N</td>\n",
       "      <td>87</td>\n",
       "      <td>45</td>\n",
       "      <td>4</td>\n",
       "      <td>-4.0</td>\n",
       "      <td>-1.0</td>\n",
       "      <td>-0.5</td>\n",
       "      <td>0.0</td>\n",
       "      <td>0.0</td>\n",
       "      <td>-0.3</td>\n",
       "      <td>-5.8</td>\n",
       "    </tr>\n",
       "    <tr>\n",
       "      <th>20698</th>\n",
       "      <td>14668209</td>\n",
       "      <td>2</td>\n",
       "      <td>02/24/2017 12:38:17 AM</td>\n",
       "      <td>02/24/2017 12:42:05 AM</td>\n",
       "      <td>1</td>\n",
       "      <td>0.70</td>\n",
       "      <td>1</td>\n",
       "      <td>N</td>\n",
       "      <td>65</td>\n",
       "      <td>25</td>\n",
       "      <td>4</td>\n",
       "      <td>-4.5</td>\n",
       "      <td>-0.5</td>\n",
       "      <td>-0.5</td>\n",
       "      <td>0.0</td>\n",
       "      <td>0.0</td>\n",
       "      <td>-0.3</td>\n",
       "      <td>-5.8</td>\n",
       "    </tr>\n",
       "    <tr>\n",
       "      <th>11204</th>\n",
       "      <td>58395501</td>\n",
       "      <td>2</td>\n",
       "      <td>07/09/2017 7:20:59 AM</td>\n",
       "      <td>07/09/2017 7:23:50 AM</td>\n",
       "      <td>1</td>\n",
       "      <td>0.64</td>\n",
       "      <td>1</td>\n",
       "      <td>N</td>\n",
       "      <td>50</td>\n",
       "      <td>48</td>\n",
       "      <td>3</td>\n",
       "      <td>-4.5</td>\n",
       "      <td>0.0</td>\n",
       "      <td>-0.5</td>\n",
       "      <td>0.0</td>\n",
       "      <td>0.0</td>\n",
       "      <td>-0.3</td>\n",
       "      <td>-5.3</td>\n",
       "    </tr>\n",
       "    <tr>\n",
       "      <th>14714</th>\n",
       "      <td>109276092</td>\n",
       "      <td>2</td>\n",
       "      <td>12/24/2017 10:37:58 PM</td>\n",
       "      <td>12/24/2017 10:41:08 PM</td>\n",
       "      <td>5</td>\n",
       "      <td>0.40</td>\n",
       "      <td>1</td>\n",
       "      <td>N</td>\n",
       "      <td>164</td>\n",
       "      <td>161</td>\n",
       "      <td>4</td>\n",
       "      <td>-4.0</td>\n",
       "      <td>-0.5</td>\n",
       "      <td>-0.5</td>\n",
       "      <td>0.0</td>\n",
       "      <td>0.0</td>\n",
       "      <td>-0.3</td>\n",
       "      <td>-5.3</td>\n",
       "    </tr>\n",
       "  </tbody>\n",
       "</table>\n",
       "</div>"
      ],
      "text/plain": [
       "       Unnamed: 0  VendorID    tpep_pickup_datetime   tpep_dropoff_datetime  \\\n",
       "12944    29059760         2  04/08/2017 12:00:16 AM  04/08/2017 11:15:57 PM   \n",
       "17602    24690146         2   03/24/2017 7:31:13 PM   03/24/2017 7:34:49 PM   \n",
       "20698    14668209         2  02/24/2017 12:38:17 AM  02/24/2017 12:42:05 AM   \n",
       "11204    58395501         2   07/09/2017 7:20:59 AM   07/09/2017 7:23:50 AM   \n",
       "14714   109276092         2  12/24/2017 10:37:58 PM  12/24/2017 10:41:08 PM   \n",
       "\n",
       "       passenger_count  trip_distance  RatecodeID store_and_fwd_flag  \\\n",
       "12944                1           0.17           5                  N   \n",
       "17602                1           0.46           1                  N   \n",
       "20698                1           0.70           1                  N   \n",
       "11204                1           0.64           1                  N   \n",
       "14714                5           0.40           1                  N   \n",
       "\n",
       "       PULocationID  DOLocationID  payment_type  fare_amount  extra  mta_tax  \\\n",
       "12944           138           138             4       -120.0    0.0      0.0   \n",
       "17602            87            45             4         -4.0   -1.0     -0.5   \n",
       "20698            65            25             4         -4.5   -0.5     -0.5   \n",
       "11204            50            48             3         -4.5    0.0     -0.5   \n",
       "14714           164           161             4         -4.0   -0.5     -0.5   \n",
       "\n",
       "       tip_amount  tolls_amount  improvement_surcharge  total_amount  \n",
       "12944         0.0           0.0                   -0.3        -120.3  \n",
       "17602         0.0           0.0                   -0.3          -5.8  \n",
       "20698         0.0           0.0                   -0.3          -5.8  \n",
       "11204         0.0           0.0                   -0.3          -5.3  \n",
       "14714         0.0           0.0                   -0.3          -5.3  "
      ]
     },
     "execution_count": 11,
     "metadata": {},
     "output_type": "execute_result"
    }
   ],
   "source": [
    "tlc_df.sort_values('total_amount').head(5)"
   ]
  },
  {
   "cell_type": "markdown",
   "id": "f0d9bc3e-61da-4c5b-a6a1-5b67c2ec2e82",
   "metadata": {},
   "source": [
    "## ```RatecodeID```\n",
    "Investigating the total amount of rides for each RatecodeID we find out that the negotiated fares are the ones the greatest standard deviation from the mean. This behavior might skew future modeling once these fares aren't agreed over objective measures.\n",
    "\n",
    "The 1, 2, 3 and 4 ratecodes show more reasonable total amounts, probably due to trips either from or to specific locations as indicated in the documentation of the data."
   ]
  },
  {
   "cell_type": "code",
   "execution_count": 12,
   "id": "e90be2bc-0522-48fa-8c38-8927ae12c4e3",
   "metadata": {},
   "outputs": [],
   "source": [
    "tlc_df = tlc_df.sort_values('RatecodeID')\n",
    "tlc_df['RatecodeID'] = tlc_df['RatecodeID'].astype('category')"
   ]
  },
  {
   "cell_type": "code",
   "execution_count": 13,
   "id": "0b43f255-112c-488c-8ddd-8db0e47064e8",
   "metadata": {},
   "outputs": [
    {
     "name": "stderr",
     "output_type": "stream",
     "text": [
      "/tmp/ipykernel_8311/1032043252.py:1: FutureWarning: The default of observed=False is deprecated and will be changed to True in a future version of pandas. Pass observed=False to retain current behavior or observed=True to adopt the future default and silence this warning.\n",
      "  tlc_df.loc[:, ['RatecodeID', 'total_amount']].groupby(by = 'RatecodeID').agg(\n"
     ]
    },
    {
     "data": {
      "text/html": [
       "<div>\n",
       "<style scoped>\n",
       "    .dataframe tbody tr th:only-of-type {\n",
       "        vertical-align: middle;\n",
       "    }\n",
       "\n",
       "    .dataframe tbody tr th {\n",
       "        vertical-align: top;\n",
       "    }\n",
       "\n",
       "    .dataframe thead th {\n",
       "        text-align: right;\n",
       "    }\n",
       "</style>\n",
       "<table border=\"1\" class=\"dataframe\">\n",
       "  <thead>\n",
       "    <tr style=\"text-align: right;\">\n",
       "      <th></th>\n",
       "      <th>count_of_rides</th>\n",
       "      <th>average_total_amount</th>\n",
       "      <th>std_dev_total_amount</th>\n",
       "    </tr>\n",
       "    <tr>\n",
       "      <th>RatecodeID</th>\n",
       "      <th></th>\n",
       "      <th></th>\n",
       "      <th></th>\n",
       "    </tr>\n",
       "  </thead>\n",
       "  <tbody>\n",
       "    <tr>\n",
       "      <th>1</th>\n",
       "      <td>22070</td>\n",
       "      <td>14.788565</td>\n",
       "      <td>10.186448</td>\n",
       "    </tr>\n",
       "    <tr>\n",
       "      <th>2</th>\n",
       "      <td>513</td>\n",
       "      <td>65.529142</td>\n",
       "      <td>6.822938</td>\n",
       "    </tr>\n",
       "    <tr>\n",
       "      <th>3</th>\n",
       "      <td>39</td>\n",
       "      <td>83.178205</td>\n",
       "      <td>32.581947</td>\n",
       "    </tr>\n",
       "    <tr>\n",
       "      <th>4</th>\n",
       "      <td>8</td>\n",
       "      <td>81.383750</td>\n",
       "      <td>34.699306</td>\n",
       "    </tr>\n",
       "    <tr>\n",
       "      <th>5</th>\n",
       "      <td>68</td>\n",
       "      <td>92.044118</td>\n",
       "      <td>155.643840</td>\n",
       "    </tr>\n",
       "    <tr>\n",
       "      <th>99</th>\n",
       "      <td>1</td>\n",
       "      <td>78.000000</td>\n",
       "      <td>NaN</td>\n",
       "    </tr>\n",
       "  </tbody>\n",
       "</table>\n",
       "</div>"
      ],
      "text/plain": [
       "            count_of_rides  average_total_amount  std_dev_total_amount\n",
       "RatecodeID                                                            \n",
       "1                    22070             14.788565             10.186448\n",
       "2                      513             65.529142              6.822938\n",
       "3                       39             83.178205             32.581947\n",
       "4                        8             81.383750             34.699306\n",
       "5                       68             92.044118            155.643840\n",
       "99                       1             78.000000                   NaN"
      ]
     },
     "execution_count": 13,
     "metadata": {},
     "output_type": "execute_result"
    }
   ],
   "source": [
    "tlc_df.loc[:, ['RatecodeID', 'total_amount']].groupby(by = 'RatecodeID').agg(\n",
    "                                                                    count_of_rides = ('RatecodeID', 'count'),\n",
    "                                                                    average_total_amount = ('total_amount','mean'),\n",
    "                                                                    std_dev_total_amount = ('total_amount','std'))"
   ]
  },
  {
   "cell_type": "code",
   "execution_count": 14,
   "id": "b39efb9f-64d0-4e2d-85e3-53c07e765b52",
   "metadata": {},
   "outputs": [
    {
     "data": {
      "text/plain": [
       "Text(0.5, 1.0, 'Total amount distribution')"
      ]
     },
     "execution_count": 14,
     "metadata": {},
     "output_type": "execute_result"
    },
    {
     "data": {
      "image/png": "[encoded data removed]",
      "text/plain": [
       "<Figure size 640x480 with 1 Axes>"
      ]
     },
     "metadata": {},
     "output_type": "display_data"
    }
   ],
   "source": [
    "box = sns.boxplot(y=tlc_df['total_amount'], x = tlc_df['RatecodeID'])\n",
    "plt.xlabel('RatecodeID')\n",
    "plt.ylabel('Total amount')\n",
    "plt.title('Total amount distribution')"
   ]
  },
  {
   "cell_type": "markdown",
   "id": "f4dc7295-4ede-4f95-942a-a85f31efa8fe",
   "metadata": {},
   "source": [
    "## ```payment_type```\n",
    "Investigating for count of rides, average tip amount and total amount, it is shown that (as described in the documentation), only credit cards tips are inserted in the data, which leads to greater total amounts for credit cards rides. \n",
    "A possible solution for this discrepance woud be create a new column called total amount without tips, to be used in the prediction models, given that tips don't deppend on objective variables of a trip, relying on the passengers' goodwill instead."
   ]
  },
  {
   "cell_type": "code",
   "execution_count": 15,
   "id": "71bc97e7-581d-4caa-b9c8-0ee4b72da0a9",
   "metadata": {},
   "outputs": [
    {
     "data": {
      "text/html": [
       "<div>\n",
       "<style scoped>\n",
       "    .dataframe tbody tr th:only-of-type {\n",
       "        vertical-align: middle;\n",
       "    }\n",
       "\n",
       "    .dataframe tbody tr th {\n",
       "        vertical-align: top;\n",
       "    }\n",
       "\n",
       "    .dataframe thead th {\n",
       "        text-align: right;\n",
       "    }\n",
       "</style>\n",
       "<table border=\"1\" class=\"dataframe\">\n",
       "  <thead>\n",
       "    <tr style=\"text-align: right;\">\n",
       "      <th></th>\n",
       "      <th>avg_tip_amount</th>\n",
       "      <th>avg_total_amount</th>\n",
       "    </tr>\n",
       "    <tr>\n",
       "      <th>payment_type</th>\n",
       "      <th></th>\n",
       "      <th></th>\n",
       "    </tr>\n",
       "  </thead>\n",
       "  <tbody>\n",
       "    <tr>\n",
       "      <th>1</th>\n",
       "      <td>2.7298</td>\n",
       "      <td>17.663577</td>\n",
       "    </tr>\n",
       "    <tr>\n",
       "      <th>2</th>\n",
       "      <td>0.0000</td>\n",
       "      <td>13.545821</td>\n",
       "    </tr>\n",
       "    <tr>\n",
       "      <th>3</th>\n",
       "      <td>0.0000</td>\n",
       "      <td>13.579669</td>\n",
       "    </tr>\n",
       "    <tr>\n",
       "      <th>4</th>\n",
       "      <td>0.0000</td>\n",
       "      <td>11.238261</td>\n",
       "    </tr>\n",
       "  </tbody>\n",
       "</table>\n",
       "</div>"
      ],
      "text/plain": [
       "              avg_tip_amount  avg_total_amount\n",
       "payment_type                                  \n",
       "1                     2.7298         17.663577\n",
       "2                     0.0000         13.545821\n",
       "3                     0.0000         13.579669\n",
       "4                     0.0000         11.238261"
      ]
     },
     "execution_count": 15,
     "metadata": {},
     "output_type": "execute_result"
    }
   ],
   "source": [
    "tlc_df.loc[:, ['payment_type','tip_amount', 'total_amount']].groupby(by = 'payment_type').agg(\n",
    "        avg_tip_amount = ('tip_amount', 'mean'),\n",
    "        avg_total_amount = ('total_amount', 'mean')\n",
    "    )"
   ]
  },
  {
   "cell_type": "markdown",
   "id": "19123165-0d91-4cec-b21d-24a5b745461c",
   "metadata": {},
   "source": [
    "## ```passenger_count```\n",
    "\n",
    "Distributions for tip amount and total amount do not show relevant differences from a specific passenger count to another."
   ]
  },
  {
   "cell_type": "code",
   "execution_count": 16,
   "id": "5cd159d6-3063-426b-8c40-4d888b54d8c9",
   "metadata": {},
   "outputs": [
    {
     "data": {
      "text/plain": [
       "Text(0.5, 1.0, 'Total amount distribution')"
      ]
     },
     "execution_count": 16,
     "metadata": {},
     "output_type": "execute_result"
    },
    {
     "data": {
      "image/png": "[encoded data removed]",
      "text/plain": [
       "<Figure size 640x480 with 1 Axes>"
      ]
     },
     "metadata": {},
     "output_type": "display_data"
    }
   ],
   "source": [
    "box = sns.boxplot(y=tlc_df['total_amount'], x = tlc_df['passenger_count'])\n",
    "plt.ylabel('Avg total amount')\n",
    "plt.title('Total amount distribution')"
   ]
  },
  {
   "cell_type": "code",
   "execution_count": 17,
   "id": "f0338973-54ac-412a-acb7-a4acc7aa933c",
   "metadata": {},
   "outputs": [
    {
     "data": {
      "text/plain": [
       "Text(0.5, 1.0, 'Total tip amount distribution')"
      ]
     },
     "execution_count": 17,
     "metadata": {},
     "output_type": "execute_result"
    },
    {
     "data": {
      "image/png": "[encoded data removed]",
      "text/plain": [
       "<Figure size 640x480 with 1 Axes>"
      ]
     },
     "metadata": {},
     "output_type": "display_data"
    }
   ],
   "source": [
    "box = sns.boxplot(y=tlc_df['tip_amount'], x = tlc_df['passenger_count'])\n",
    "plt.ylabel('Avg total tip amount')\n",
    "plt.title('Total tip amount distribution')"
   ]
  },
  {
   "cell_type": "markdown",
   "id": "97c2b291-362c-4420-887f-366538f23184",
   "metadata": {},
   "source": [
    "## Summary: Useful variables for constructing a prediction model\n",
    "\n",
    "The variables with the most potential to create a model that correctly predicts the taxi fares are the tip_amount, total amount, trip_distance and RatecodeID.\n",
    "\n",
    "Other relevant variables would include the start and the end time and locations of the trips (tpep_pickup_datetime,\n",
    "tpep_dropoff_datetime, PULocation, DOLocation), since metered fares may vary uppon the hour of the day and RatecodeIDs 2, 3, and 4 are associated to locations. "
   ]
  }
 ],
 "metadata": {
  "kernelspec": {
   "display_name": "Python 3 (ipykernel)",
   "language": "python",
   "name": "python3"
  },
  "language_info": {
   "codemirror_mode": {
    "name": "ipython",
    "version": 3
   },
   "file_extension": ".py",
   "mimetype": "text/x-python",
   "name": "python",
   "nbconvert_exporter": "python",
   "pygments_lexer": "ipython3",
   "version": "3.13.3"
  }
 },
 "nbformat": 4,
 "nbformat_minor": 5
}
