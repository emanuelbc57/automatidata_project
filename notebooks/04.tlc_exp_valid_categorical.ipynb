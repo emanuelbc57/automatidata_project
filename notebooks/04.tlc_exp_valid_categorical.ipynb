{
 "cells": [
  {
   "cell_type": "markdown",
   "id": "f6e91899-82d3-4d67-922d-4b13279b834a",
   "metadata": {},
   "source": [
    "# Exploration of possible relationships between categorical data and total amount components\n",
    "\n",
    "## SUMMARY\n",
    "### Temporal distributions\n",
    "* Ride count and ```ttl_am_without_tips``` by: ```month```, ```weekday``` and pickup time;\n",
    "\n",
    "### Location-related distributions\n",
    "* ```RatecodeID``` and its possible relationship with ```DOLocationID``` and ```PULocationID```\n",
    "* Evaluate ```trip_duration_sec```, ```trip_distance```, ```ttl_am_without_tips```, ```tolls_amount``` distributions for each ```RatecodeID```"
   ]
  },
  {
   "cell_type": "code",
   "execution_count": null,
   "id": "615d2f02-f228-4c4c-934c-7c21334b9875",
   "metadata": {},
   "outputs": [],
   "source": [
    "import pandas as pd\n",
    "import numpy as np\n",
    "import seaborn as sns\n",
    "from matplotlib import pyplot as plt\n",
    "from scipy import stats"
   ]
  },
  {
   "cell_type": "code",
   "execution_count": null,
   "id": "315e6ec0-fde7-4368-b3e8-8e65f9e2206b",
   "metadata": {},
   "outputs": [],
   "source": [
    "tlc_df = pd.read_csv('../data/cleaned/2017_TLC_useful_columns.csv')\n",
    "print('done')"
   ]
  },
  {
   "cell_type": "markdown",
   "id": "b8a22c7c-da5c-4399-a025-9dd5702e03c2",
   "metadata": {},
   "source": [
    "## Datatype Correction:"
   ]
  },
  {
   "cell_type": "code",
   "execution_count": null,
   "id": "60cd8d9a-c18a-4729-8a8b-2e552ac97d48",
   "metadata": {},
   "outputs": [],
   "source": [
    "# Datetime variables\n",
    "tlc_df['tpep_pickup_datetime'] = pd.to_datetime(tlc_df['tpep_pickup_datetime'])\n",
    "tlc_df['tpep_dropoff_datetime'] = pd.to_datetime(tlc_df['tpep_dropoff_datetime'])"
   ]
  },
  {
   "cell_type": "code",
   "execution_count": null,
   "id": "18807e76-3b92-4c93-9c9c-0612a88789ae",
   "metadata": {},
   "outputs": [],
   "source": [
    "# Categorical variables\n",
    "\n",
    "# month, PULocationID, DOLocationID, RatecodeID, payment_type \n",
    "\n",
    "for column in ['month', 'PULocationID', 'DOLocationID', 'RatecodeID', 'payment_type']:\n",
    "    tlc_df = tlc_df.sort_values(column)\n",
    "    tlc_df[column] = tlc_df[column].astype('category')\n",
    "\n",
    "# weekday and weekday_str\n",
    "\n",
    "tlc_df = tlc_df.sort_values('weekday')\n",
    "tlc_df['weekday'] = tlc_df['weekday'].astype('category')\n",
    "\n",
    "tlc_df.info()"
   ]
  },
  {
   "cell_type": "markdown",
   "id": "d1a08610-af2c-4b6d-8290-3336d15222d7",
   "metadata": {},
   "source": [
    "## Temporal distributions\n",
    "### Aggregation by ```month```:"
   ]
  },
  {
   "cell_type": "code",
   "execution_count": null,
   "id": "04784823-41dd-406c-bcc7-0bbf035b4d52",
   "metadata": {},
   "outputs": [],
   "source": [
    "monthly_tp = tlc_df.groupby(by = 'month', observed = False).agg(number_of_trips = ('month', 'count'),\n",
    "                                                                   total_revenue = ('ttl_am_without_tips', 'sum'),\n",
    "                                                                   average_trip_fare = ('ttl_am_without_tips', 'mean')\n",
    "                                                                   ).reset_index()\n",
    "monthly_tp"
   ]
  },
  {
   "cell_type": "code",
   "execution_count": null,
   "id": "e88b6d71-4778-40e9-bcf5-50cf32b6c885",
   "metadata": {},
   "outputs": [],
   "source": [
    "plt.bar(x = monthly_tp['month'], height = (monthly_tp['number_of_trips']/np.sum(monthly_tp['number_of_trips'])*100))\n",
    "plt.xticks(range(1,13))\n",
    "plt.xlabel('Month')\n",
    "plt.ylabel('Percentage of Annual Trips')\n",
    "plt.title('Distribution of yellow taxi trips by month')\n",
    "plt.show()"
   ]
  },
  {
   "cell_type": "code",
   "execution_count": null,
   "id": "255eef1d-154c-4f71-b4cc-8e94a255b600",
   "metadata": {},
   "outputs": [],
   "source": [
    "plt.bar(x = monthly_tp['month'], height = (monthly_tp['total_revenue']/np.sum(monthly_tp['total_revenue'])*100))\n",
    "plt.xticks(range(1,13))\n",
    "plt.xlabel('Month')\n",
    "plt.ylabel('Percentage of Total Annual Revenue')\n",
    "plt.title('Proportional Revenue by month')\n",
    "plt.show()"
   ]
  },
  {
   "cell_type": "code",
   "execution_count": null,
   "id": "1507d5e1-bd8a-41e1-b86b-209f304f434a",
   "metadata": {},
   "outputs": [],
   "source": [
    "plt.bar(x = monthly_tp['month'], height = monthly_tp['average_trip_fare'].round(2))\n",
    "plt.xticks(range(1,13))\n",
    "plt.xlabel('Month')\n",
    "plt.ylabel('Average trip fare US Dollars')\n",
    "plt.yticks(range(0,18,2), )\n",
    "plt.title('Average trip fare by month')\n",
    "plt.show()"
   ]
  },
  {
   "cell_type": "markdown",
   "id": "214d4117-f2fc-43ab-8569-6507071ec07d",
   "metadata": {},
   "source": [
    "### Aggregation by ```weekday```:"
   ]
  },
  {
   "cell_type": "code",
   "execution_count": null,
   "id": "d94eeb7a-2496-43d5-848c-755c4f9327c5",
   "metadata": {},
   "outputs": [],
   "source": [
    "weekday_tp = tlc_df.groupby(by = ['weekday', 'weekday_str'], observed = True).agg(number_of_trips = ('weekday', 'count'),\n",
    "                                                                   accum_total_revenue = ('ttl_am_without_tips', 'sum'),\n",
    "                                                                   average_trip_fare = ('ttl_am_without_tips', 'mean')\n",
    "                                                                   ).sort_values(by = 'weekday').reset_index()\n",
    "weekday_tp"
   ]
  },
  {
   "cell_type": "code",
   "execution_count": null,
   "id": "079a7936-5a12-4169-af82-45a6f8aebd66",
   "metadata": {},
   "outputs": [],
   "source": [
    "plt.bar(x = weekday_tp['weekday'], height = (weekday_tp['number_of_trips']/np.sum(weekday_tp['number_of_trips'])*100))\n",
    "plt.xlabel('Weekday')\n",
    "plt.ylabel('Percentage out of total number or Trips')\n",
    "plt.xticks(range(7), weekday_tp['weekday_str'])\n",
    "plt.title('Distribution of yellow taxi trips by weekday')\n",
    "plt.show()"
   ]
  },
  {
   "cell_type": "code",
   "execution_count": null,
   "id": "64d0f76a-3d8c-46a7-9764-ea4617175bd0",
   "metadata": {},
   "outputs": [],
   "source": [
    "plt.bar(x = weekday_tp['weekday'], height = weekday_tp['average_trip_fare'])\n",
    "plt.xlabel('Weekday')\n",
    "plt.ylabel('Average Total Amount')\n",
    "plt.title('Average trip fare by Day of The Week')\n",
    "plt.xticks(range(7), weekday_tp['weekday_str'])\n",
    "plt.show()"
   ]
  },
  {
   "cell_type": "code",
   "execution_count": null,
   "id": "a57a17d0-87fc-493b-94e0-2021f2753f39",
   "metadata": {},
   "outputs": [],
   "source": [
    "plt.bar(x = weekday_tp['weekday'], height = (weekday_tp['accum_total_revenue']/np.sum(weekday_tp['accum_total_revenue'])*100))\n",
    "plt.xlabel('Month')\n",
    "plt.ylabel('Percentage of Total Annual Revenue')\n",
    "plt.title('Proportional Revenue by Day of The Week')\n",
    "plt.xticks(range(7), weekday_tp['weekday_str'])\n",
    "plt.show()"
   ]
  },
  {
   "cell_type": "markdown",
   "id": "5dc0052e-c8d0-4ea9-bbbe-ab9aaddc4aa1",
   "metadata": {},
   "source": [
    "### Aggregation by hour:"
   ]
  },
  {
   "cell_type": "code",
   "execution_count": null,
   "id": "be0cf91f-ba53-48c3-8b63-3ace0274b3f8",
   "metadata": {},
   "outputs": [],
   "source": [
    "hour_tp = tlc_df.groupby(by = 'hour', observed = True).agg(number_of_trips = ('hour', 'count'),\n",
    "                                                                   accum_total_revenue = ('ttl_am_without_tips', 'sum'),\n",
    "                                                                   average_trip_fare = ('ttl_am_without_tips', 'mean')\n",
    "                                                                   ).sort_values(by = 'hour').reset_index()\n",
    "hour_tp"
   ]
  },
  {
   "cell_type": "code",
   "execution_count": null,
   "id": "481a2a3d-77ad-49be-ba5b-71b46fede0cc",
   "metadata": {},
   "outputs": [],
   "source": [
    "plt.bar(x = hour_tp['hour'], height = (hour_tp['number_of_trips']/np.sum(hour_tp['number_of_trips'])*100))\n",
    "plt.xlabel('Hour - 24-hour clock')\n",
    "plt.ylabel('Percentage out of total number or Trips')\n",
    "plt.xticks(range(24), hour_tp['hour'])\n",
    "plt.title('Distribution of yellow taxi trips by hour of the day')\n",
    "plt.show()"
   ]
  },
  {
   "cell_type": "code",
   "execution_count": null,
   "id": "d338f9d7-82a5-4e41-8970-77abea653f3e",
   "metadata": {},
   "outputs": [],
   "source": [
    "plt.bar(x = hour_tp['hour'], height = (hour_tp['accum_total_revenue']/np.sum(hour_tp['accum_total_revenue'])*100))\n",
    "plt.xlabel('Hour - 24-hour clock')\n",
    "plt.ylabel('Percentage of Total Annual Revenue')\n",
    "plt.title('Proportional Revenue by Hour of The Day')\n",
    "plt.xticks(range(24), hour_tp['hour'])\n",
    "plt.show()"
   ]
  },
  {
   "cell_type": "code",
   "execution_count": null,
   "id": "90ede8d2-dcf4-47aa-a274-5f17b39370da",
   "metadata": {},
   "outputs": [],
   "source": [
    "plt.bar(x = hour_tp['hour'], height = hour_tp['average_trip_fare'])\n",
    "plt.xlabel('Hour - 24-hour clock')\n",
    "plt.ylabel('Average Total Amount')\n",
    "plt.title('Average total amount by hour of the day')\n",
    "plt.xticks(range(24), hour_tp['hour'])\n",
    "plt.show()"
   ]
  },
  {
   "cell_type": "markdown",
   "id": "af9f64da-6ce5-4e1f-95e2-fa33233e017d",
   "metadata": {},
   "source": [
    "### Evaluation of RatecodeIDs, PULocationIDs and DOLocationIDs\n",
    "#### Evaluation of RatecodeIDs and PULocationID\n",
    "The RatecodeID = 4 is associated to a the unique DOLocationID = 265. On the other hand, the DOLocationID = 265 has registered trips using all the others Ratecodes available."
   ]
  },
  {
   "cell_type": "code",
   "execution_count": null,
   "id": "529e9e82-d5f9-4447-bc40-ac91559f5ecc",
   "metadata": {},
   "outputs": [],
   "source": [
    "gp_dol = tlc_df.loc[:, ['DOLocationID', 'RatecodeID']].groupby(by = ['DOLocationID', 'RatecodeID'], observed = True).agg(count = ('RatecodeID', 'count')).sort_values(by = 'RatecodeID').reset_index()\n",
    "gp_dol.groupby(by = 'RatecodeID', observed = True).agg(associated_DOLocations = ('DOLocationID', 'count')).reset_index()"
   ]
  },
  {
   "cell_type": "code",
   "execution_count": null,
   "id": "42e5052b-2e7a-4880-af87-f390644bd2a4",
   "metadata": {},
   "outputs": [],
   "source": [
    "# finding the DOLocationID associated to RatecodeID == 4\n",
    "mask = gp_dol['RatecodeID'] == 4\n",
    "gp_dol[mask]"
   ]
  },
  {
   "cell_type": "code",
   "execution_count": null,
   "id": "ef4b87ee-ae3f-4273-8be7-2d0af1b7dcdc",
   "metadata": {},
   "outputs": [],
   "source": [
    "# finding if the DOLocationID == 265 is associated only to RatecodeID == 4\n",
    "mask = gp_dol['DOLocationID'] == 265\n",
    "gp_dol[mask]"
   ]
  },
  {
   "cell_type": "markdown",
   "id": "6850dff3-cb07-451d-9b4c-a8f950d5ca78",
   "metadata": {},
   "source": [
    "#### Evaluation of RatecodeIDs and PULocationID\n",
    "\n",
    "The RatecodeID = 4 is associated to a three PULocationID (90,132,138). On the other hand, the PULocationIDs also are not associated uniquely to RatecodeID = 4\n",
    "\n",
    "In this scenario, RatecodeIDs cannot be directly associated to specific PULocationIDs or DOLocationIDs. In the exploration of the raw dataset, before cleaning, Total Amount distribution by RatecodeID stood out as a relevant variable for the values the total amount assumed. "
   ]
  },
  {
   "cell_type": "code",
   "execution_count": null,
   "id": "3a31a022-3ecd-4199-ad36-1a77366288b5",
   "metadata": {},
   "outputs": [],
   "source": [
    "gp_pul = tlc_df.loc[:, ['PULocationID', 'RatecodeID']].groupby(by = ['PULocationID', 'RatecodeID'], observed = True).agg(count = ('RatecodeID', 'count')).sort_values(by = 'RatecodeID').reset_index()\n",
    "gp_pul.groupby(by = 'RatecodeID', observed = True).agg(associated_DOLocations = ('PULocationID', 'count')).reset_index()"
   ]
  },
  {
   "cell_type": "code",
   "execution_count": null,
   "id": "4e13e161-7c45-419a-bb0e-595072dc3aeb",
   "metadata": {},
   "outputs": [],
   "source": [
    "# finding the PULocationID associated to RatecodeID == 4\n",
    "mask = gp_pul['RatecodeID'] == 4\n",
    "gp_pul[mask]"
   ]
  },
  {
   "cell_type": "code",
   "execution_count": null,
   "id": "90a1ce7a-65c7-42c6-ad58-77fdc4449275",
   "metadata": {},
   "outputs": [],
   "source": [
    "# finding if the DOLocationID == 265 is associated only to RatecodeID == 4\n",
    "mask = gp_pul['PULocationID'] == 132\n",
    "gp_pul[mask]"
   ]
  },
  {
   "cell_type": "markdown",
   "id": "4a367545-9dcf-4647-8ab2-98a4e14b04b1",
   "metadata": {},
   "source": [
    "### Evaluation of ```RatecodeIDs``` influence over ```trip_duration_sec```, ```trip_distance```, ```ttl_am_without_tips``` and ```tolls_amount```\n",
    "#### ```RatecodeIDs``` vs. ```trip_duration_sec```\n",
    "\n",
    "Hypothesis testing possibility:\n",
    "   * H0: The RatecodeID doesn't influence on trip_duration\n",
    "   * H1: The RatecodeID influence on trip_duration"
   ]
  },
  {
   "cell_type": "code",
   "execution_count": null,
   "id": "84ad6210-3e00-483d-8758-7f7e89a5e8f1",
   "metadata": {},
   "outputs": [],
   "source": [
    "box = sns.boxplot(y=tlc_df['trip_duration_sec'], x = tlc_df['RatecodeID'])\n",
    "plt.xlabel('RatecodeID')\n",
    "plt.ylabel('Trip Duration (seconds)')\n",
    "plt.title('Trip Duration Distribution')\n",
    "plt.show()"
   ]
  },
  {
   "cell_type": "markdown",
   "id": "48108687-f017-4663-a8a4-aa646ee47b00",
   "metadata": {},
   "source": [
    "#### ```RatecodeIDs``` vs. ```trip_distance```\n",
    "\n",
    "Hypothesis testing possibility:\n",
    "   * H0: The RatecodeID doesn't influence on trip_distance\n",
    "   * H1: The RatecodeID influence on trip_distance"
   ]
  },
  {
   "cell_type": "code",
   "execution_count": null,
   "id": "c295023a-6577-43af-a014-722afb00c6fc",
   "metadata": {},
   "outputs": [],
   "source": [
    "box = sns.boxplot(y=tlc_df['trip_distance'], x = tlc_df['RatecodeID'])\n",
    "plt.xlabel('RatecodeID')\n",
    "plt.ylabel('Trip Distance (miles)')\n",
    "plt.title('Trip Distance Distribution')\n",
    "plt.show()"
   ]
  },
  {
   "cell_type": "markdown",
   "id": "67714988-5752-46ae-a58a-8e6f7aecfcdd",
   "metadata": {},
   "source": [
    "#### ```RatecodeIDs``` vs. ```tolls_amount```\n",
    "\n",
    "Hypothesis testing possibility:\n",
    "   * H0: The RatecodeID doesn't influence on tolls_amount\n",
    "   * H1: The RatecodeID influence on tolls_amount"
   ]
  },
  {
   "cell_type": "code",
   "execution_count": null,
   "id": "0ab97265-d5f9-4e6b-9854-6628e2a58963",
   "metadata": {},
   "outputs": [],
   "source": [
    "box = sns.boxplot(y=tlc_df['tolls_amount'], x = tlc_df['RatecodeID'])\n",
    "plt.xlabel('RatecodeID')\n",
    "plt.ylabel('Tolls Amount (U$)')\n",
    "plt.title('Tolls Amount Distribution')\n",
    "plt.show()"
   ]
  },
  {
   "cell_type": "markdown",
   "id": "383068fd-463b-4134-af97-e4fc957bb292",
   "metadata": {},
   "source": [
    "#### ```RatecodeIDs``` vs. ```ttl_am_without_tips```\n",
    "\n",
    "Hypothesis testing possibility:\n",
    "   * H0: The RatecodeID doesn't influence on ttl_am_without_tips\n",
    "   * H1: The RatecodeID influence on ttl_am_without_tips"
   ]
  },
  {
   "cell_type": "code",
   "execution_count": null,
   "id": "eba0f6ec-3930-42f9-a2a6-7484cc3c4a3d",
   "metadata": {},
   "outputs": [],
   "source": [
    "box = sns.boxplot(y=tlc_df['ttl_am_without_tips'], x = tlc_df['RatecodeID'])\n",
    "plt.xlabel('RatecodeID')\n",
    "plt.ylabel('Total amount')\n",
    "plt.title('Total amount distribution')\n",
    "plt.show()"
   ]
  },
  {
   "cell_type": "markdown",
   "id": "0e851818-7f9b-447b-b964-043e5f35755c",
   "metadata": {},
   "source": [
    "#### ```RatecodeIDs``` vs. ```ttl_am_raw``` without tolls"
   ]
  },
  {
   "cell_type": "code",
   "execution_count": null,
   "id": "2e83b5f1-e4c4-494a-b2da-739a4c2d8c32",
   "metadata": {},
   "outputs": [],
   "source": [
    "box = sns.boxplot(y = tlc_df['ttl_am_raw'], x = tlc_df['RatecodeID'])\n",
    "plt.xlabel('RatecodeID')\n",
    "plt.ylabel('Total amount without tolls')\n",
    "plt.title('Total amount without tolls distribution')\n",
    "plt.show()"
   ]
  }
 ],
 "metadata": {
  "kernelspec": {
   "display_name": "Python 3 (ipykernel)",
   "language": "python",
   "name": "python3"
  },
  "language_info": {
   "codemirror_mode": {
    "name": "ipython",
    "version": 3
   },
   "file_extension": ".py",
   "mimetype": "text/x-python",
   "name": "python",
   "nbconvert_exporter": "python",
   "pygments_lexer": "ipython3",
   "version": "3.13.3"
  }
 },
 "nbformat": 4,
 "nbformat_minor": 5
}
